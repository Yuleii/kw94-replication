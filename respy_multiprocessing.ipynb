{
 "cells": [
  {
   "cell_type": "code",
   "execution_count": 1,
   "metadata": {},
   "outputs": [],
   "source": [
    "import chaospy as cp\n",
    "import numpy as np\n",
    "import pandas as pd\n",
    "import respy as rp\n",
    "from os import getpid\n",
    "import time\n",
    "from joblib import Parallel, delayed"
   ]
  },
  {
   "cell_type": "markdown",
   "metadata": {},
   "source": [
    "## Preparation"
   ]
  },
  {
   "cell_type": "markdown",
   "metadata": {},
   "source": [
    "Draw the sample of random input parameters.   \n",
    "For simplicity I draw 10 sampled parameters and use `joblib.Parallel`for parallel computing"
   ]
  },
  {
   "cell_type": "code",
   "execution_count": 3,
   "metadata": {},
   "outputs": [],
   "source": [
    "# load model specifications\n",
    "_, base_options = rp.get_example_model(\"kw_94_one\", with_data=False)\n",
    "base_params = pd.read_pickle(\"./input/respy-se-collection/params_kw_94_one_se.pkl\")\n",
    "constraints = rp.get_parameter_constraints(\"kw_94_one\")\n",
    "constraints.remove({\"loc\": \"shocks_sdcorr\", \"type\": \"sdcorr\"})\n",
    "# mean and cov for sampling\n",
    "mean = base_params[\"value\"].to_numpy()[:27]\n",
    "cov = pd.read_pickle(\"./input/respy-se-collection/covariance_kw_94_one.pkl\").to_numpy()"
   ]
  },
  {
   "cell_type": "code",
   "execution_count": 4,
   "metadata": {},
   "outputs": [],
   "source": [
    "# sample input parameters\n",
    "np.random.seed(123)\n",
    "distribution = cp.MvNormal(loc=mean, scale=cov)\n",
    "input_params_10 = list(distribution.sample(10).T) # 10 draws for simplicity"
   ]
  },
  {
   "cell_type": "markdown",
   "metadata": {},
   "source": [
    "## Function to use multiprocessing"
   ]
  },
  {
   "cell_type": "code",
   "execution_count": 5,
   "metadata": {},
   "outputs": [],
   "source": [
    "def quantitiy_of_interest(input_params, *args):\n",
    "    # We need the baseline options and a grid for the indices.\n",
    "    # It does not matter which of the three KW94 specifications we use here.\n",
    "    _, base_options = rp.get_example_model(\"kw_94_one\", with_data=False)\n",
    "    base_params = pd.read_pickle(\"./input/respy-se-collection/params_kw_94_one_se.pkl\")\n",
    "\n",
    "    params_idx = pd.Series(data=input_params, index=base_params.index[0:27])\n",
    "\n",
    "    assert len(params_idx) == 27, \"Length of KW94 vector must be 27.\"\n",
    "    part_1 = params_idx\n",
    "\n",
    "    rp_params, _ = rp.get_example_model(\"kw_94_one\", with_data=False)\n",
    "    part_2 = rp_params.iloc[27:31, 0]\n",
    "\n",
    "    parts = [part_1, part_2]\n",
    "    rp_params_series = pd.concat(parts)\n",
    "    params_idx_respy = pd.DataFrame(rp_params_series, columns=[\"value\"])\n",
    "\n",
    "    simulate = rp.get_simulate_func(params_idx_respy, base_options)\n",
    "    base_params = params_idx_respy.copy()\n",
    "    base_df = simulate(base_params)\n",
    "    base_edu = base_df.groupby(\"Identifier\")[\"Experience_Edu\"].max().mean()\n",
    "\n",
    "    policy_params = params_idx_respy.copy()\n",
    "    policy_params.loc[\n",
    "        (\"nonpec_edu\", \"at_least_twelve_exp_edu\"), \"value\"\n",
    "    ] += 500\n",
    "    policy_df = simulate(policy_params)\n",
    "    policy_edu = policy_df.groupby(\"Identifier\")[\"Experience_Edu\"].max().mean()\n",
    "\n",
    "    change_mean_edu = policy_edu - base_edu\n",
    "    \n",
    "    print(\"I'm process\", getpid(), ':', change_mean_edu)\n",
    "\n",
    "\n",
    "    return change_mean_edu"
   ]
  },
  {
   "cell_type": "markdown",
   "metadata": {},
   "source": [
    "<span style='color:blue'> \"quantitiy_of_interest()\" with multiprocessing (10 input draws with 1 processer): worked </span>"
   ]
  },
  {
   "cell_type": "code",
   "execution_count": 6,
   "metadata": {},
   "outputs": [
    {
     "name": "stdout",
     "output_type": "stream",
     "text": [
      "I'm process 63202 : 1.391\n",
      "I'm process 63202 : 1.3960000000000008\n",
      "I'm process 63202 : 1.5569999999999986\n",
      "I'm process 63202 : 1.564\n",
      "I'm process 63202 : 1.5259999999999998\n",
      "I'm process 63202 : 1.5120000000000005\n",
      "I'm process 63202 : 1.4510000000000005\n",
      "I'm process 63202 : 1.5310000000000006\n",
      "I'm process 63202 : 1.4900000000000002\n",
      "I'm process 63202 : 1.6509999999999998\n"
     ]
    },
    {
     "data": {
      "text/plain": [
       "[1.391,\n",
       " 1.3960000000000008,\n",
       " 1.5569999999999986,\n",
       " 1.564,\n",
       " 1.5259999999999998,\n",
       " 1.5120000000000005,\n",
       " 1.4510000000000005,\n",
       " 1.5310000000000006,\n",
       " 1.4900000000000002,\n",
       " 1.6509999999999998]"
      ]
     },
     "execution_count": 6,
     "metadata": {},
     "output_type": "execute_result"
    }
   ],
   "source": [
    "Parallel(n_jobs=1)(delayed(quantitiy_of_interest)(i) for i in input_params_10)"
   ]
  },
  {
   "cell_type": "markdown",
   "metadata": {},
   "source": [
    "<span style='color:red'> \"quantitiy_of_interest()\" with multiprocessing(10 input draws with all 8 processor): sometimes fail, sometimes work </span>"
   ]
  },
  {
   "cell_type": "code",
   "execution_count": 11,
   "metadata": {},
   "outputs": [
    {
     "data": {
      "text/plain": [
       "[1.391,\n",
       " 1.3960000000000008,\n",
       " 1.5569999999999986,\n",
       " 1.564,\n",
       " 1.5259999999999998,\n",
       " 1.5120000000000005,\n",
       " 1.4510000000000005,\n",
       " 1.5310000000000006,\n",
       " 1.4900000000000002,\n",
       " 1.6509999999999998]"
      ]
     },
     "execution_count": 11,
     "metadata": {},
     "output_type": "execute_result"
    }
   ],
   "source": [
    "Parallel(n_jobs=-1)(delayed(quantitiy_of_interest)(i) for i in input_params_10) # works sometime"
   ]
  },
  {
   "cell_type": "markdown",
   "metadata": {},
   "source": [
    "<span style='color:red'> \"quantitiy_of_interest()\" with multiprocessing(100 input draws with all 8 processor): fail</span>"
   ]
  },
  {
   "cell_type": "code",
   "execution_count": 15,
   "metadata": {},
   "outputs": [
    {
     "ename": "UncompressError",
     "evalue": "Error while decompressing: invalid input",
     "output_type": "error",
     "traceback": [
      "\u001b[0;31m---------------------------------------------------------------------------\u001b[0m",
      "\u001b[0;31m_RemoteTraceback\u001b[0m                          Traceback (most recent call last)",
      "\u001b[0;31m_RemoteTraceback\u001b[0m: \n\"\"\"\nTraceback (most recent call last):\n  File \"/Users/yulei/opt/anaconda3/envs/kw94-replication/lib/python3.8/site-packages/joblib/externals/loky/process_executor.py\", line 431, in _process_worker\n    r = call_item()\n  File \"/Users/yulei/opt/anaconda3/envs/kw94-replication/lib/python3.8/site-packages/joblib/externals/loky/process_executor.py\", line 285, in __call__\n    return self.fn(*self.args, **self.kwargs)\n  File \"/Users/yulei/opt/anaconda3/envs/kw94-replication/lib/python3.8/site-packages/joblib/_parallel_backends.py\", line 595, in __call__\n    return self.func(*args, **kwargs)\n  File \"/Users/yulei/opt/anaconda3/envs/kw94-replication/lib/python3.8/site-packages/joblib/parallel.py\", line 262, in __call__\n    return [func(*args, **kwargs)\n  File \"/Users/yulei/opt/anaconda3/envs/kw94-replication/lib/python3.8/site-packages/joblib/parallel.py\", line 262, in <listcomp>\n    return [func(*args, **kwargs)\n  File \"<ipython-input-5-acd778d5823f>\", line 19, in quantitiy_of_interest\n  File \"/Users/yulei/opt/anaconda3/envs/kw94-replication/lib/python3.8/site-packages/respy/simulate.py\", line 78, in get_simulate_func\n    solve = get_solve_func(params, options)\n  File \"/Users/yulei/opt/anaconda3/envs/kw94-replication/lib/python3.8/site-packages/respy/solve.py\", line 46, in get_solve_func\n    state_space = create_state_space_class(optim_paras, options)\n  File \"/Users/yulei/opt/anaconda3/envs/kw94-replication/lib/python3.8/site-packages/respy/state_space.py\", line 49, in create_state_space_class\n    state_space = StateSpace(\n  File \"/Users/yulei/opt/anaconda3/envs/kw94-replication/lib/python3.8/site-packages/respy/state_space.py\", line 122, in __init__\n    self.child_indices = self.collect_child_indices()\n  File \"/Users/yulei/opt/anaconda3/envs/kw94-replication/lib/python3.8/site-packages/respy/state_space.py\", line 268, in collect_child_indices\n    child_indices = _collect_child_indices(\n  File \"/Users/yulei/opt/anaconda3/envs/kw94-replication/lib/python3.8/site-packages/respy/parallelization.py\", line 37, in wrapper_parallelize_across_dense_dimensions\n    out = joblib.Parallel(n_jobs=n_jobs)(\n  File \"/Users/yulei/opt/anaconda3/envs/kw94-replication/lib/python3.8/site-packages/joblib/parallel.py\", line 1044, in __call__\n    while self.dispatch_one_batch(iterator):\n  File \"/Users/yulei/opt/anaconda3/envs/kw94-replication/lib/python3.8/site-packages/joblib/parallel.py\", line 859, in dispatch_one_batch\n    self._dispatch(tasks)\n  File \"/Users/yulei/opt/anaconda3/envs/kw94-replication/lib/python3.8/site-packages/joblib/parallel.py\", line 777, in _dispatch\n    job = self._backend.apply_async(batch, callback=cb)\n  File \"/Users/yulei/opt/anaconda3/envs/kw94-replication/lib/python3.8/site-packages/joblib/_parallel_backends.py\", line 208, in apply_async\n    result = ImmediateResult(func)\n  File \"/Users/yulei/opt/anaconda3/envs/kw94-replication/lib/python3.8/site-packages/joblib/_parallel_backends.py\", line 572, in __init__\n    self.results = batch()\n  File \"/Users/yulei/opt/anaconda3/envs/kw94-replication/lib/python3.8/site-packages/joblib/parallel.py\", line 262, in __call__\n    return [func(*args, **kwargs)\n  File \"/Users/yulei/opt/anaconda3/envs/kw94-replication/lib/python3.8/site-packages/joblib/parallel.py\", line 262, in <listcomp>\n    return [func(*args, **kwargs)\n  File \"/Users/yulei/opt/anaconda3/envs/kw94-replication/lib/python3.8/site-packages/respy/state_space.py\", line 827, in _collect_child_indices\n    states = load_states(complex_, options)\n  File \"/Users/yulei/opt/anaconda3/envs/kw94-replication/lib/python3.8/site-packages/respy/shared.py\", line 676, in load_states\n    return pd.read_parquet(directory / file_name)\n  File \"/Users/yulei/opt/anaconda3/envs/kw94-replication/lib/python3.8/site-packages/pandas/io/parquet.py\", line 459, in read_parquet\n    return impl.read(\n  File \"/Users/yulei/opt/anaconda3/envs/kw94-replication/lib/python3.8/site-packages/pandas/io/parquet.py\", line 314, in read\n    result = parquet_file.to_pandas(columns=columns, **kwargs)\n  File \"/Users/yulei/opt/anaconda3/envs/kw94-replication/lib/python3.8/site-packages/fastparquet/api.py\", line 401, in to_pandas\n    self.read_row_group(rg, columns, categories, infile=f,\n  File \"/Users/yulei/opt/anaconda3/envs/kw94-replication/lib/python3.8/site-packages/fastparquet/api.py\", line 228, in read_row_group\n    core.read_row_group(\n  File \"/Users/yulei/opt/anaconda3/envs/kw94-replication/lib/python3.8/site-packages/fastparquet/core.py\", line 354, in read_row_group\n    read_row_group_arrays(file, rg, columns, categories, schema_helper,\n  File \"/Users/yulei/opt/anaconda3/envs/kw94-replication/lib/python3.8/site-packages/fastparquet/core.py\", line 329, in read_row_group_arrays\n    read_col(column, schema_helper, file, use_cat=name+'-catdef' in out,\n  File \"/Users/yulei/opt/anaconda3/envs/kw94-replication/lib/python3.8/site-packages/fastparquet/core.py\", line 245, in read_col\n    defi, rep, val = read_data_page(infile, schema_helper, ph, cmd,\n  File \"/Users/yulei/opt/anaconda3/envs/kw94-replication/lib/python3.8/site-packages/fastparquet/core.py\", line 99, in read_data_page\n    raw_bytes = _read_page(f, header, metadata)\n  File \"/Users/yulei/opt/anaconda3/envs/kw94-replication/lib/python3.8/site-packages/fastparquet/core.py\", line 22, in _read_page\n    raw_bytes = decompress_data(\n  File \"/Users/yulei/opt/anaconda3/envs/kw94-replication/lib/python3.8/site-packages/fastparquet/compression.py\", line 128, in decompress_data\n    return decompressions[algorithm.upper()](data, uncompressed_size)\n  File \"/Users/yulei/opt/anaconda3/envs/kw94-replication/lib/python3.8/site-packages/fastparquet/compression.py\", line 32, in snappy_decompress\n    return snappy.decompress(data)\n  File \"/Users/yulei/opt/anaconda3/envs/kw94-replication/lib/python3.8/site-packages/snappy/snappy.py\", line 92, in uncompress\n    return _uncompress(data)\nsnappy.UncompressError: Error while decompressing: invalid input\n\"\"\"",
      "\nThe above exception was the direct cause of the following exception:\n",
      "\u001b[0;31mUncompressError\u001b[0m                           Traceback (most recent call last)",
      "\u001b[0;32m<ipython-input-15-8f8769c8f398>\u001b[0m in \u001b[0;36m<module>\u001b[0;34m\u001b[0m\n\u001b[1;32m      1\u001b[0m \u001b[0minput_params_100\u001b[0m \u001b[0;34m=\u001b[0m \u001b[0mlist\u001b[0m\u001b[0;34m(\u001b[0m\u001b[0mdistribution\u001b[0m\u001b[0;34m.\u001b[0m\u001b[0msample\u001b[0m\u001b[0;34m(\u001b[0m\u001b[0;36m100\u001b[0m\u001b[0;34m)\u001b[0m\u001b[0;34m.\u001b[0m\u001b[0mT\u001b[0m\u001b[0;34m)\u001b[0m \u001b[0;31m# 10 draws for simplicity\u001b[0m\u001b[0;34m\u001b[0m\u001b[0;34m\u001b[0m\u001b[0m\n\u001b[0;32m----> 2\u001b[0;31m \u001b[0mParallel\u001b[0m\u001b[0;34m(\u001b[0m\u001b[0mn_jobs\u001b[0m\u001b[0;34m=\u001b[0m\u001b[0;34m-\u001b[0m\u001b[0;36m1\u001b[0m\u001b[0;34m)\u001b[0m\u001b[0;34m(\u001b[0m\u001b[0mdelayed\u001b[0m\u001b[0;34m(\u001b[0m\u001b[0mquantitiy_of_interest\u001b[0m\u001b[0;34m)\u001b[0m\u001b[0;34m(\u001b[0m\u001b[0mi\u001b[0m\u001b[0;34m)\u001b[0m \u001b[0;32mfor\u001b[0m \u001b[0mi\u001b[0m \u001b[0;32min\u001b[0m \u001b[0minput_params_100\u001b[0m\u001b[0;34m)\u001b[0m\u001b[0;34m\u001b[0m\u001b[0;34m\u001b[0m\u001b[0m\n\u001b[0m",
      "\u001b[0;32m~/opt/anaconda3/envs/kw94-replication/lib/python3.8/site-packages/joblib/parallel.py\u001b[0m in \u001b[0;36m__call__\u001b[0;34m(self, iterable)\u001b[0m\n\u001b[1;32m   1052\u001b[0m \u001b[0;34m\u001b[0m\u001b[0m\n\u001b[1;32m   1053\u001b[0m             \u001b[0;32mwith\u001b[0m \u001b[0mself\u001b[0m\u001b[0;34m.\u001b[0m\u001b[0m_backend\u001b[0m\u001b[0;34m.\u001b[0m\u001b[0mretrieval_context\u001b[0m\u001b[0;34m(\u001b[0m\u001b[0;34m)\u001b[0m\u001b[0;34m:\u001b[0m\u001b[0;34m\u001b[0m\u001b[0;34m\u001b[0m\u001b[0m\n\u001b[0;32m-> 1054\u001b[0;31m                 \u001b[0mself\u001b[0m\u001b[0;34m.\u001b[0m\u001b[0mretrieve\u001b[0m\u001b[0;34m(\u001b[0m\u001b[0;34m)\u001b[0m\u001b[0;34m\u001b[0m\u001b[0;34m\u001b[0m\u001b[0m\n\u001b[0m\u001b[1;32m   1055\u001b[0m             \u001b[0;31m# Make sure that we get a last message telling us we are done\u001b[0m\u001b[0;34m\u001b[0m\u001b[0;34m\u001b[0m\u001b[0;34m\u001b[0m\u001b[0m\n\u001b[1;32m   1056\u001b[0m             \u001b[0melapsed_time\u001b[0m \u001b[0;34m=\u001b[0m \u001b[0mtime\u001b[0m\u001b[0;34m.\u001b[0m\u001b[0mtime\u001b[0m\u001b[0;34m(\u001b[0m\u001b[0;34m)\u001b[0m \u001b[0;34m-\u001b[0m \u001b[0mself\u001b[0m\u001b[0;34m.\u001b[0m\u001b[0m_start_time\u001b[0m\u001b[0;34m\u001b[0m\u001b[0;34m\u001b[0m\u001b[0m\n",
      "\u001b[0;32m~/opt/anaconda3/envs/kw94-replication/lib/python3.8/site-packages/joblib/parallel.py\u001b[0m in \u001b[0;36mretrieve\u001b[0;34m(self)\u001b[0m\n\u001b[1;32m    931\u001b[0m             \u001b[0;32mtry\u001b[0m\u001b[0;34m:\u001b[0m\u001b[0;34m\u001b[0m\u001b[0;34m\u001b[0m\u001b[0m\n\u001b[1;32m    932\u001b[0m                 \u001b[0;32mif\u001b[0m \u001b[0mgetattr\u001b[0m\u001b[0;34m(\u001b[0m\u001b[0mself\u001b[0m\u001b[0;34m.\u001b[0m\u001b[0m_backend\u001b[0m\u001b[0;34m,\u001b[0m \u001b[0;34m'supports_timeout'\u001b[0m\u001b[0;34m,\u001b[0m \u001b[0;32mFalse\u001b[0m\u001b[0;34m)\u001b[0m\u001b[0;34m:\u001b[0m\u001b[0;34m\u001b[0m\u001b[0;34m\u001b[0m\u001b[0m\n\u001b[0;32m--> 933\u001b[0;31m                     \u001b[0mself\u001b[0m\u001b[0;34m.\u001b[0m\u001b[0m_output\u001b[0m\u001b[0;34m.\u001b[0m\u001b[0mextend\u001b[0m\u001b[0;34m(\u001b[0m\u001b[0mjob\u001b[0m\u001b[0;34m.\u001b[0m\u001b[0mget\u001b[0m\u001b[0;34m(\u001b[0m\u001b[0mtimeout\u001b[0m\u001b[0;34m=\u001b[0m\u001b[0mself\u001b[0m\u001b[0;34m.\u001b[0m\u001b[0mtimeout\u001b[0m\u001b[0;34m)\u001b[0m\u001b[0;34m)\u001b[0m\u001b[0;34m\u001b[0m\u001b[0;34m\u001b[0m\u001b[0m\n\u001b[0m\u001b[1;32m    934\u001b[0m                 \u001b[0;32melse\u001b[0m\u001b[0;34m:\u001b[0m\u001b[0;34m\u001b[0m\u001b[0;34m\u001b[0m\u001b[0m\n\u001b[1;32m    935\u001b[0m                     \u001b[0mself\u001b[0m\u001b[0;34m.\u001b[0m\u001b[0m_output\u001b[0m\u001b[0;34m.\u001b[0m\u001b[0mextend\u001b[0m\u001b[0;34m(\u001b[0m\u001b[0mjob\u001b[0m\u001b[0;34m.\u001b[0m\u001b[0mget\u001b[0m\u001b[0;34m(\u001b[0m\u001b[0;34m)\u001b[0m\u001b[0;34m)\u001b[0m\u001b[0;34m\u001b[0m\u001b[0;34m\u001b[0m\u001b[0m\n",
      "\u001b[0;32m~/opt/anaconda3/envs/kw94-replication/lib/python3.8/site-packages/joblib/_parallel_backends.py\u001b[0m in \u001b[0;36mwrap_future_result\u001b[0;34m(future, timeout)\u001b[0m\n\u001b[1;32m    540\u001b[0m         AsyncResults.get from multiprocessing.\"\"\"\n\u001b[1;32m    541\u001b[0m         \u001b[0;32mtry\u001b[0m\u001b[0;34m:\u001b[0m\u001b[0;34m\u001b[0m\u001b[0;34m\u001b[0m\u001b[0m\n\u001b[0;32m--> 542\u001b[0;31m             \u001b[0;32mreturn\u001b[0m \u001b[0mfuture\u001b[0m\u001b[0;34m.\u001b[0m\u001b[0mresult\u001b[0m\u001b[0;34m(\u001b[0m\u001b[0mtimeout\u001b[0m\u001b[0;34m=\u001b[0m\u001b[0mtimeout\u001b[0m\u001b[0;34m)\u001b[0m\u001b[0;34m\u001b[0m\u001b[0;34m\u001b[0m\u001b[0m\n\u001b[0m\u001b[1;32m    543\u001b[0m         \u001b[0;32mexcept\u001b[0m \u001b[0mCfTimeoutError\u001b[0m \u001b[0;32mas\u001b[0m \u001b[0me\u001b[0m\u001b[0;34m:\u001b[0m\u001b[0;34m\u001b[0m\u001b[0;34m\u001b[0m\u001b[0m\n\u001b[1;32m    544\u001b[0m             \u001b[0;32mraise\u001b[0m \u001b[0mTimeoutError\u001b[0m \u001b[0;32mfrom\u001b[0m \u001b[0me\u001b[0m\u001b[0;34m\u001b[0m\u001b[0;34m\u001b[0m\u001b[0m\n",
      "\u001b[0;32m~/opt/anaconda3/envs/kw94-replication/lib/python3.8/concurrent/futures/_base.py\u001b[0m in \u001b[0;36mresult\u001b[0;34m(self, timeout)\u001b[0m\n\u001b[1;32m    437\u001b[0m                 \u001b[0;32mraise\u001b[0m \u001b[0mCancelledError\u001b[0m\u001b[0;34m(\u001b[0m\u001b[0;34m)\u001b[0m\u001b[0;34m\u001b[0m\u001b[0;34m\u001b[0m\u001b[0m\n\u001b[1;32m    438\u001b[0m             \u001b[0;32melif\u001b[0m \u001b[0mself\u001b[0m\u001b[0;34m.\u001b[0m\u001b[0m_state\u001b[0m \u001b[0;34m==\u001b[0m \u001b[0mFINISHED\u001b[0m\u001b[0;34m:\u001b[0m\u001b[0;34m\u001b[0m\u001b[0;34m\u001b[0m\u001b[0m\n\u001b[0;32m--> 439\u001b[0;31m                 \u001b[0;32mreturn\u001b[0m \u001b[0mself\u001b[0m\u001b[0;34m.\u001b[0m\u001b[0m__get_result\u001b[0m\u001b[0;34m(\u001b[0m\u001b[0;34m)\u001b[0m\u001b[0;34m\u001b[0m\u001b[0;34m\u001b[0m\u001b[0m\n\u001b[0m\u001b[1;32m    440\u001b[0m             \u001b[0;32melse\u001b[0m\u001b[0;34m:\u001b[0m\u001b[0;34m\u001b[0m\u001b[0;34m\u001b[0m\u001b[0m\n\u001b[1;32m    441\u001b[0m                 \u001b[0;32mraise\u001b[0m \u001b[0mTimeoutError\u001b[0m\u001b[0;34m(\u001b[0m\u001b[0;34m)\u001b[0m\u001b[0;34m\u001b[0m\u001b[0;34m\u001b[0m\u001b[0m\n",
      "\u001b[0;32m~/opt/anaconda3/envs/kw94-replication/lib/python3.8/concurrent/futures/_base.py\u001b[0m in \u001b[0;36m__get_result\u001b[0;34m(self)\u001b[0m\n\u001b[1;32m    386\u001b[0m     \u001b[0;32mdef\u001b[0m \u001b[0m__get_result\u001b[0m\u001b[0;34m(\u001b[0m\u001b[0mself\u001b[0m\u001b[0;34m)\u001b[0m\u001b[0;34m:\u001b[0m\u001b[0;34m\u001b[0m\u001b[0;34m\u001b[0m\u001b[0m\n\u001b[1;32m    387\u001b[0m         \u001b[0;32mif\u001b[0m \u001b[0mself\u001b[0m\u001b[0;34m.\u001b[0m\u001b[0m_exception\u001b[0m\u001b[0;34m:\u001b[0m\u001b[0;34m\u001b[0m\u001b[0;34m\u001b[0m\u001b[0m\n\u001b[0;32m--> 388\u001b[0;31m             \u001b[0;32mraise\u001b[0m \u001b[0mself\u001b[0m\u001b[0;34m.\u001b[0m\u001b[0m_exception\u001b[0m\u001b[0;34m\u001b[0m\u001b[0;34m\u001b[0m\u001b[0m\n\u001b[0m\u001b[1;32m    389\u001b[0m         \u001b[0;32melse\u001b[0m\u001b[0;34m:\u001b[0m\u001b[0;34m\u001b[0m\u001b[0;34m\u001b[0m\u001b[0m\n\u001b[1;32m    390\u001b[0m             \u001b[0;32mreturn\u001b[0m \u001b[0mself\u001b[0m\u001b[0;34m.\u001b[0m\u001b[0m_result\u001b[0m\u001b[0;34m\u001b[0m\u001b[0;34m\u001b[0m\u001b[0m\n",
      "\u001b[0;31mUncompressError\u001b[0m: Error while decompressing: invalid input"
     ]
    }
   ],
   "source": [
    "input_params_100 = list(distribution.sample(100).T)\n",
    "Parallel(n_jobs=-1)(delayed(quantitiy_of_interest)(i) for i in input_params_100)"
   ]
  },
  {
   "cell_type": "markdown",
   "metadata": {},
   "source": [
    "## debug: function `quantitiy_of_interest` with multiprocessing works fine until the code `simulate = get_simulate_func()`"
   ]
  },
  {
   "cell_type": "markdown",
   "metadata": {},
   "source": [
    "Create input arguments for `rp.get_simulate_func(params, options)`"
   ]
  },
  {
   "cell_type": "code",
   "execution_count": 20,
   "metadata": {},
   "outputs": [],
   "source": [
    "def params_idx_respy(input_params, *args):\n",
    "    \"\"\"transfer sampled paramters to respy format.\"\"\"\n",
    "    \n",
    "    # baseline options and params for the indices.\n",
    "    _, base_options = rp.get_example_model(\"kw_94_one\", with_data=False)\n",
    "    base_params = pd.read_pickle(\"./input/respy-se-collection/params_kw_94_one_se.pkl\")\n",
    "\n",
    "    params_idx = pd.Series(data=input_params, index=base_params.index[0:27])\n",
    "\n",
    "    assert len(params_idx) == 27, \"Length of KW94 vector must be 27.\"\n",
    "    part_1 = params_idx\n",
    "\n",
    "    rp_params, _ = rp.get_example_model(\"kw_94_one\", with_data=False)\n",
    "    part_2 = rp_params.iloc[27:31, 0]\n",
    "\n",
    "    parts = [part_1, part_2]\n",
    "    rp_params_series = pd.concat(parts)\n",
    "    params_idx_respy = pd.DataFrame(rp_params_series, columns=[\"value\"])\n",
    "\n",
    "    return params_idx_respy"
   ]
  },
  {
   "cell_type": "code",
   "execution_count": 21,
   "metadata": {},
   "outputs": [
    {
     "name": "stdout",
     "output_type": "stream",
     "text": [
      "\n",
      "Time to complete: 0.08s\n",
      "\n"
     ]
    }
   ],
   "source": [
    "start = time.time()\n",
    "params_idx_respy = Parallel(n_jobs=-1)(delayed(params_idx_respy)(i) for i in input_params_10)\n",
    "end = time.time()\n",
    "# print(params_idx_respy)\n",
    "print(f'\\nTime to complete: {end - start:.2f}s\\n')"
   ]
  },
  {
   "cell_type": "code",
   "execution_count": 22,
   "metadata": {},
   "outputs": [
    {
     "data": {
      "text/html": [
       "<div>\n",
       "<style scoped>\n",
       "    .dataframe tbody tr th:only-of-type {\n",
       "        vertical-align: middle;\n",
       "    }\n",
       "\n",
       "    .dataframe tbody tr th {\n",
       "        vertical-align: top;\n",
       "    }\n",
       "\n",
       "    .dataframe thead th {\n",
       "        text-align: right;\n",
       "    }\n",
       "</style>\n",
       "<table border=\"1\" class=\"dataframe\">\n",
       "  <thead>\n",
       "    <tr style=\"text-align: right;\">\n",
       "      <th></th>\n",
       "      <th></th>\n",
       "      <th>value</th>\n",
       "    </tr>\n",
       "    <tr>\n",
       "      <th>category</th>\n",
       "      <th>name</th>\n",
       "      <th></th>\n",
       "    </tr>\n",
       "  </thead>\n",
       "  <tbody>\n",
       "    <tr>\n",
       "      <th>delta</th>\n",
       "      <th>delta</th>\n",
       "      <td>0.949831</td>\n",
       "    </tr>\n",
       "    <tr>\n",
       "      <th rowspan=\"6\" valign=\"top\">wage_a</th>\n",
       "      <th>constant</th>\n",
       "      <td>9.210280</td>\n",
       "    </tr>\n",
       "    <tr>\n",
       "      <th>exp_edu</th>\n",
       "      <td>0.038065</td>\n",
       "    </tr>\n",
       "    <tr>\n",
       "      <th>exp_a</th>\n",
       "      <td>0.032887</td>\n",
       "    </tr>\n",
       "    <tr>\n",
       "      <th>exp_a_square</th>\n",
       "      <td>-0.000497</td>\n",
       "    </tr>\n",
       "    <tr>\n",
       "      <th>exp_b</th>\n",
       "      <td>0.000048</td>\n",
       "    </tr>\n",
       "    <tr>\n",
       "      <th>exp_b_square</th>\n",
       "      <td>0.000002</td>\n",
       "    </tr>\n",
       "    <tr>\n",
       "      <th rowspan=\"6\" valign=\"top\">wage_b</th>\n",
       "      <th>constant</th>\n",
       "      <td>8.483750</td>\n",
       "    </tr>\n",
       "    <tr>\n",
       "      <th>exp_edu</th>\n",
       "      <td>0.069812</td>\n",
       "    </tr>\n",
       "    <tr>\n",
       "      <th>exp_b</th>\n",
       "      <td>0.066790</td>\n",
       "    </tr>\n",
       "    <tr>\n",
       "      <th>exp_b_square</th>\n",
       "      <td>-0.000995</td>\n",
       "    </tr>\n",
       "    <tr>\n",
       "      <th>exp_a</th>\n",
       "      <td>0.022537</td>\n",
       "    </tr>\n",
       "    <tr>\n",
       "      <th>exp_a_square</th>\n",
       "      <td>-0.000534</td>\n",
       "    </tr>\n",
       "    <tr>\n",
       "      <th rowspan=\"3\" valign=\"top\">nonpec_edu</th>\n",
       "      <th>constant</th>\n",
       "      <td>144.528534</td>\n",
       "    </tr>\n",
       "    <tr>\n",
       "      <th>at_least_twelve_exp_edu</th>\n",
       "      <td>91.607873</td>\n",
       "    </tr>\n",
       "    <tr>\n",
       "      <th>not_edu_last_period</th>\n",
       "      <td>-3844.952885</td>\n",
       "    </tr>\n",
       "    <tr>\n",
       "      <th>nonpec_home</th>\n",
       "      <th>constant</th>\n",
       "      <td>17792.209670</td>\n",
       "    </tr>\n",
       "    <tr>\n",
       "      <th rowspan=\"10\" valign=\"top\">shocks_chol</th>\n",
       "      <th>chol_a</th>\n",
       "      <td>0.199775</td>\n",
       "    </tr>\n",
       "    <tr>\n",
       "      <th>chol_b_a</th>\n",
       "      <td>0.004017</td>\n",
       "    </tr>\n",
       "    <tr>\n",
       "      <th>chol_b</th>\n",
       "      <td>0.247784</td>\n",
       "    </tr>\n",
       "    <tr>\n",
       "      <th>chol_edu_a</th>\n",
       "      <td>47.832880</td>\n",
       "    </tr>\n",
       "    <tr>\n",
       "      <th>chol_edu_b</th>\n",
       "      <td>60.103549</td>\n",
       "    </tr>\n",
       "    <tr>\n",
       "      <th>chol_edu</th>\n",
       "      <td>1290.210611</td>\n",
       "    </tr>\n",
       "    <tr>\n",
       "      <th>chol_home_a</th>\n",
       "      <td>34.741273</td>\n",
       "    </tr>\n",
       "    <tr>\n",
       "      <th>chol_home_b</th>\n",
       "      <td>46.561168</td>\n",
       "    </tr>\n",
       "    <tr>\n",
       "      <th>chol_home_edu</th>\n",
       "      <td>-122.153199</td>\n",
       "    </tr>\n",
       "    <tr>\n",
       "      <th>chol_home</th>\n",
       "      <td>1502.283123</td>\n",
       "    </tr>\n",
       "    <tr>\n",
       "      <th>lagged_choice_1_edu</th>\n",
       "      <th>probability</th>\n",
       "      <td>1.000000</td>\n",
       "    </tr>\n",
       "    <tr>\n",
       "      <th>initial_exp_edu_10</th>\n",
       "      <th>probability</th>\n",
       "      <td>1.000000</td>\n",
       "    </tr>\n",
       "    <tr>\n",
       "      <th>maximum_exp</th>\n",
       "      <th>edu</th>\n",
       "      <td>20.000000</td>\n",
       "    </tr>\n",
       "  </tbody>\n",
       "</table>\n",
       "</div>"
      ],
      "text/plain": [
       "                                                    value\n",
       "category            name                                 \n",
       "delta               delta                        0.949831\n",
       "wage_a              constant                     9.210280\n",
       "                    exp_edu                      0.038065\n",
       "                    exp_a                        0.032887\n",
       "                    exp_a_square                -0.000497\n",
       "                    exp_b                        0.000048\n",
       "                    exp_b_square                 0.000002\n",
       "wage_b              constant                     8.483750\n",
       "                    exp_edu                      0.069812\n",
       "                    exp_b                        0.066790\n",
       "                    exp_b_square                -0.000995\n",
       "                    exp_a                        0.022537\n",
       "                    exp_a_square                -0.000534\n",
       "nonpec_edu          constant                   144.528534\n",
       "                    at_least_twelve_exp_edu     91.607873\n",
       "                    not_edu_last_period      -3844.952885\n",
       "nonpec_home         constant                 17792.209670\n",
       "shocks_chol         chol_a                       0.199775\n",
       "                    chol_b_a                     0.004017\n",
       "                    chol_b                       0.247784\n",
       "                    chol_edu_a                  47.832880\n",
       "                    chol_edu_b                  60.103549\n",
       "                    chol_edu                  1290.210611\n",
       "                    chol_home_a                 34.741273\n",
       "                    chol_home_b                 46.561168\n",
       "                    chol_home_edu             -122.153199\n",
       "                    chol_home                 1502.283123\n",
       "lagged_choice_1_edu probability                  1.000000\n",
       "initial_exp_edu_10  probability                  1.000000\n",
       "maximum_exp         edu                         20.000000"
      ]
     },
     "execution_count": 22,
     "metadata": {},
     "output_type": "execute_result"
    }
   ],
   "source": [
    "params_idx_respy[9]"
   ]
  },
  {
   "cell_type": "code",
   "execution_count": 23,
   "metadata": {},
   "outputs": [],
   "source": [
    "# wrap get_simulate_func\n",
    "from functools import partial\n",
    "get_simulate_func = partial(rp.get_simulate_func, options=base_options)"
   ]
  },
  {
   "cell_type": "markdown",
   "metadata": {},
   "source": [
    "<span style='color:blue'> \"rp.get_simulate_func()\" with multiprocessing (10 input draws with 1 processer): worked </span>"
   ]
  },
  {
   "cell_type": "code",
   "execution_count": 24,
   "metadata": {},
   "outputs": [
    {
     "name": "stdout",
     "output_type": "stream",
     "text": [
      "\n",
      "Time to complete: 44.70s\n",
      "\n"
     ]
    }
   ],
   "source": [
    "start = time.time()\n",
    "simulate = Parallel(n_jobs=1)(delayed(get_simulate_func)(params) for params in params_idx_respy)\n",
    "end = time.time()\n",
    "print(f'\\nTime to complete: {end - start:.2f}s\\n')"
   ]
  },
  {
   "cell_type": "markdown",
   "metadata": {},
   "source": [
    "\n",
    "<span style='color:red'> \"rp.get_simulate_func()\" with multiprocessing (10 input draws with 8 processer):failed </span>"
   ]
  },
  {
   "cell_type": "code",
   "execution_count": 32,
   "metadata": {},
   "outputs": [
    {
     "ename": "UncompressError",
     "evalue": "Error while decompressing: invalid input",
     "output_type": "error",
     "traceback": [
      "\u001b[0;31m---------------------------------------------------------------------------\u001b[0m",
      "\u001b[0;31m_RemoteTraceback\u001b[0m                          Traceback (most recent call last)",
      "\u001b[0;31m_RemoteTraceback\u001b[0m: \n\"\"\"\nTraceback (most recent call last):\n  File \"/Users/yulei/opt/anaconda3/envs/kw94-replication/lib/python3.8/site-packages/joblib/externals/loky/process_executor.py\", line 431, in _process_worker\n    r = call_item()\n  File \"/Users/yulei/opt/anaconda3/envs/kw94-replication/lib/python3.8/site-packages/joblib/externals/loky/process_executor.py\", line 285, in __call__\n    return self.fn(*self.args, **self.kwargs)\n  File \"/Users/yulei/opt/anaconda3/envs/kw94-replication/lib/python3.8/site-packages/joblib/_parallel_backends.py\", line 595, in __call__\n    return self.func(*args, **kwargs)\n  File \"/Users/yulei/opt/anaconda3/envs/kw94-replication/lib/python3.8/site-packages/joblib/parallel.py\", line 262, in __call__\n    return [func(*args, **kwargs)\n  File \"/Users/yulei/opt/anaconda3/envs/kw94-replication/lib/python3.8/site-packages/joblib/parallel.py\", line 262, in <listcomp>\n    return [func(*args, **kwargs)\n  File \"/Users/yulei/opt/anaconda3/envs/kw94-replication/lib/python3.8/site-packages/respy/simulate.py\", line 78, in get_simulate_func\n    solve = get_solve_func(params, options)\n  File \"/Users/yulei/opt/anaconda3/envs/kw94-replication/lib/python3.8/site-packages/respy/solve.py\", line 46, in get_solve_func\n    state_space = create_state_space_class(optim_paras, options)\n  File \"/Users/yulei/opt/anaconda3/envs/kw94-replication/lib/python3.8/site-packages/respy/state_space.py\", line 49, in create_state_space_class\n    state_space = StateSpace(\n  File \"/Users/yulei/opt/anaconda3/envs/kw94-replication/lib/python3.8/site-packages/respy/state_space.py\", line 122, in __init__\n    self.child_indices = self.collect_child_indices()\n  File \"/Users/yulei/opt/anaconda3/envs/kw94-replication/lib/python3.8/site-packages/respy/state_space.py\", line 268, in collect_child_indices\n    child_indices = _collect_child_indices(\n  File \"/Users/yulei/opt/anaconda3/envs/kw94-replication/lib/python3.8/site-packages/respy/parallelization.py\", line 37, in wrapper_parallelize_across_dense_dimensions\n    out = joblib.Parallel(n_jobs=n_jobs)(\n  File \"/Users/yulei/opt/anaconda3/envs/kw94-replication/lib/python3.8/site-packages/joblib/parallel.py\", line 1044, in __call__\n    while self.dispatch_one_batch(iterator):\n  File \"/Users/yulei/opt/anaconda3/envs/kw94-replication/lib/python3.8/site-packages/joblib/parallel.py\", line 859, in dispatch_one_batch\n    self._dispatch(tasks)\n  File \"/Users/yulei/opt/anaconda3/envs/kw94-replication/lib/python3.8/site-packages/joblib/parallel.py\", line 777, in _dispatch\n    job = self._backend.apply_async(batch, callback=cb)\n  File \"/Users/yulei/opt/anaconda3/envs/kw94-replication/lib/python3.8/site-packages/joblib/_parallel_backends.py\", line 208, in apply_async\n    result = ImmediateResult(func)\n  File \"/Users/yulei/opt/anaconda3/envs/kw94-replication/lib/python3.8/site-packages/joblib/_parallel_backends.py\", line 572, in __init__\n    self.results = batch()\n  File \"/Users/yulei/opt/anaconda3/envs/kw94-replication/lib/python3.8/site-packages/joblib/parallel.py\", line 262, in __call__\n    return [func(*args, **kwargs)\n  File \"/Users/yulei/opt/anaconda3/envs/kw94-replication/lib/python3.8/site-packages/joblib/parallel.py\", line 262, in <listcomp>\n    return [func(*args, **kwargs)\n  File \"/Users/yulei/opt/anaconda3/envs/kw94-replication/lib/python3.8/site-packages/respy/state_space.py\", line 827, in _collect_child_indices\n    states = load_states(complex_, options)\n  File \"/Users/yulei/opt/anaconda3/envs/kw94-replication/lib/python3.8/site-packages/respy/shared.py\", line 676, in load_states\n    return pd.read_parquet(directory / file_name)\n  File \"/Users/yulei/opt/anaconda3/envs/kw94-replication/lib/python3.8/site-packages/pandas/io/parquet.py\", line 459, in read_parquet\n    return impl.read(\n  File \"/Users/yulei/opt/anaconda3/envs/kw94-replication/lib/python3.8/site-packages/pandas/io/parquet.py\", line 314, in read\n    result = parquet_file.to_pandas(columns=columns, **kwargs)\n  File \"/Users/yulei/opt/anaconda3/envs/kw94-replication/lib/python3.8/site-packages/fastparquet/api.py\", line 401, in to_pandas\n    self.read_row_group(rg, columns, categories, infile=f,\n  File \"/Users/yulei/opt/anaconda3/envs/kw94-replication/lib/python3.8/site-packages/fastparquet/api.py\", line 228, in read_row_group\n    core.read_row_group(\n  File \"/Users/yulei/opt/anaconda3/envs/kw94-replication/lib/python3.8/site-packages/fastparquet/core.py\", line 354, in read_row_group\n    read_row_group_arrays(file, rg, columns, categories, schema_helper,\n  File \"/Users/yulei/opt/anaconda3/envs/kw94-replication/lib/python3.8/site-packages/fastparquet/core.py\", line 329, in read_row_group_arrays\n    read_col(column, schema_helper, file, use_cat=name+'-catdef' in out,\n  File \"/Users/yulei/opt/anaconda3/envs/kw94-replication/lib/python3.8/site-packages/fastparquet/core.py\", line 245, in read_col\n    defi, rep, val = read_data_page(infile, schema_helper, ph, cmd,\n  File \"/Users/yulei/opt/anaconda3/envs/kw94-replication/lib/python3.8/site-packages/fastparquet/core.py\", line 99, in read_data_page\n    raw_bytes = _read_page(f, header, metadata)\n  File \"/Users/yulei/opt/anaconda3/envs/kw94-replication/lib/python3.8/site-packages/fastparquet/core.py\", line 22, in _read_page\n    raw_bytes = decompress_data(\n  File \"/Users/yulei/opt/anaconda3/envs/kw94-replication/lib/python3.8/site-packages/fastparquet/compression.py\", line 128, in decompress_data\n    return decompressions[algorithm.upper()](data, uncompressed_size)\n  File \"/Users/yulei/opt/anaconda3/envs/kw94-replication/lib/python3.8/site-packages/fastparquet/compression.py\", line 32, in snappy_decompress\n    return snappy.decompress(data)\n  File \"/Users/yulei/opt/anaconda3/envs/kw94-replication/lib/python3.8/site-packages/snappy/snappy.py\", line 92, in uncompress\n    return _uncompress(data)\nsnappy.UncompressError: Error while decompressing: invalid input\n\"\"\"",
      "\nThe above exception was the direct cause of the following exception:\n",
      "\u001b[0;31mUncompressError\u001b[0m                           Traceback (most recent call last)",
      "\u001b[0;32m<ipython-input-32-b32fcc2fd4d3>\u001b[0m in \u001b[0;36m<module>\u001b[0;34m\u001b[0m\n\u001b[1;32m      1\u001b[0m \u001b[0mstart\u001b[0m \u001b[0;34m=\u001b[0m \u001b[0mtime\u001b[0m\u001b[0;34m.\u001b[0m\u001b[0mtime\u001b[0m\u001b[0;34m(\u001b[0m\u001b[0;34m)\u001b[0m\u001b[0;34m\u001b[0m\u001b[0;34m\u001b[0m\u001b[0m\n\u001b[0;32m----> 2\u001b[0;31m \u001b[0msimulate\u001b[0m \u001b[0;34m=\u001b[0m \u001b[0mParallel\u001b[0m\u001b[0;34m(\u001b[0m\u001b[0mn_jobs\u001b[0m\u001b[0;34m=\u001b[0m\u001b[0;34m-\u001b[0m\u001b[0;36m1\u001b[0m\u001b[0;34m)\u001b[0m\u001b[0;34m(\u001b[0m\u001b[0mdelayed\u001b[0m\u001b[0;34m(\u001b[0m\u001b[0mget_simulate_func\u001b[0m\u001b[0;34m)\u001b[0m\u001b[0;34m(\u001b[0m\u001b[0mparams\u001b[0m\u001b[0;34m)\u001b[0m \u001b[0;32mfor\u001b[0m \u001b[0mparams\u001b[0m \u001b[0;32min\u001b[0m \u001b[0mparams_idx_respy\u001b[0m\u001b[0;34m)\u001b[0m\u001b[0;34m\u001b[0m\u001b[0;34m\u001b[0m\u001b[0m\n\u001b[0m\u001b[1;32m      3\u001b[0m \u001b[0mend\u001b[0m \u001b[0;34m=\u001b[0m \u001b[0mtime\u001b[0m\u001b[0;34m.\u001b[0m\u001b[0mtime\u001b[0m\u001b[0;34m(\u001b[0m\u001b[0;34m)\u001b[0m\u001b[0;34m\u001b[0m\u001b[0;34m\u001b[0m\u001b[0m\n\u001b[1;32m      4\u001b[0m \u001b[0;31m# print(simulate)\u001b[0m\u001b[0;34m\u001b[0m\u001b[0;34m\u001b[0m\u001b[0;34m\u001b[0m\u001b[0m\n\u001b[1;32m      5\u001b[0m \u001b[0mprint\u001b[0m\u001b[0;34m(\u001b[0m\u001b[0;34mf'\\nTime to complete: {end - start:.2f}s\\n'\u001b[0m\u001b[0;34m)\u001b[0m\u001b[0;34m\u001b[0m\u001b[0;34m\u001b[0m\u001b[0m\n",
      "\u001b[0;32m~/opt/anaconda3/envs/kw94-replication/lib/python3.8/site-packages/joblib/parallel.py\u001b[0m in \u001b[0;36m__call__\u001b[0;34m(self, iterable)\u001b[0m\n\u001b[1;32m   1052\u001b[0m \u001b[0;34m\u001b[0m\u001b[0m\n\u001b[1;32m   1053\u001b[0m             \u001b[0;32mwith\u001b[0m \u001b[0mself\u001b[0m\u001b[0;34m.\u001b[0m\u001b[0m_backend\u001b[0m\u001b[0;34m.\u001b[0m\u001b[0mretrieval_context\u001b[0m\u001b[0;34m(\u001b[0m\u001b[0;34m)\u001b[0m\u001b[0;34m:\u001b[0m\u001b[0;34m\u001b[0m\u001b[0;34m\u001b[0m\u001b[0m\n\u001b[0;32m-> 1054\u001b[0;31m                 \u001b[0mself\u001b[0m\u001b[0;34m.\u001b[0m\u001b[0mretrieve\u001b[0m\u001b[0;34m(\u001b[0m\u001b[0;34m)\u001b[0m\u001b[0;34m\u001b[0m\u001b[0;34m\u001b[0m\u001b[0m\n\u001b[0m\u001b[1;32m   1055\u001b[0m             \u001b[0;31m# Make sure that we get a last message telling us we are done\u001b[0m\u001b[0;34m\u001b[0m\u001b[0;34m\u001b[0m\u001b[0;34m\u001b[0m\u001b[0m\n\u001b[1;32m   1056\u001b[0m             \u001b[0melapsed_time\u001b[0m \u001b[0;34m=\u001b[0m \u001b[0mtime\u001b[0m\u001b[0;34m.\u001b[0m\u001b[0mtime\u001b[0m\u001b[0;34m(\u001b[0m\u001b[0;34m)\u001b[0m \u001b[0;34m-\u001b[0m \u001b[0mself\u001b[0m\u001b[0;34m.\u001b[0m\u001b[0m_start_time\u001b[0m\u001b[0;34m\u001b[0m\u001b[0;34m\u001b[0m\u001b[0m\n",
      "\u001b[0;32m~/opt/anaconda3/envs/kw94-replication/lib/python3.8/site-packages/joblib/parallel.py\u001b[0m in \u001b[0;36mretrieve\u001b[0;34m(self)\u001b[0m\n\u001b[1;32m    931\u001b[0m             \u001b[0;32mtry\u001b[0m\u001b[0;34m:\u001b[0m\u001b[0;34m\u001b[0m\u001b[0;34m\u001b[0m\u001b[0m\n\u001b[1;32m    932\u001b[0m                 \u001b[0;32mif\u001b[0m \u001b[0mgetattr\u001b[0m\u001b[0;34m(\u001b[0m\u001b[0mself\u001b[0m\u001b[0;34m.\u001b[0m\u001b[0m_backend\u001b[0m\u001b[0;34m,\u001b[0m \u001b[0;34m'supports_timeout'\u001b[0m\u001b[0;34m,\u001b[0m \u001b[0;32mFalse\u001b[0m\u001b[0;34m)\u001b[0m\u001b[0;34m:\u001b[0m\u001b[0;34m\u001b[0m\u001b[0;34m\u001b[0m\u001b[0m\n\u001b[0;32m--> 933\u001b[0;31m                     \u001b[0mself\u001b[0m\u001b[0;34m.\u001b[0m\u001b[0m_output\u001b[0m\u001b[0;34m.\u001b[0m\u001b[0mextend\u001b[0m\u001b[0;34m(\u001b[0m\u001b[0mjob\u001b[0m\u001b[0;34m.\u001b[0m\u001b[0mget\u001b[0m\u001b[0;34m(\u001b[0m\u001b[0mtimeout\u001b[0m\u001b[0;34m=\u001b[0m\u001b[0mself\u001b[0m\u001b[0;34m.\u001b[0m\u001b[0mtimeout\u001b[0m\u001b[0;34m)\u001b[0m\u001b[0;34m)\u001b[0m\u001b[0;34m\u001b[0m\u001b[0;34m\u001b[0m\u001b[0m\n\u001b[0m\u001b[1;32m    934\u001b[0m                 \u001b[0;32melse\u001b[0m\u001b[0;34m:\u001b[0m\u001b[0;34m\u001b[0m\u001b[0;34m\u001b[0m\u001b[0m\n\u001b[1;32m    935\u001b[0m                     \u001b[0mself\u001b[0m\u001b[0;34m.\u001b[0m\u001b[0m_output\u001b[0m\u001b[0;34m.\u001b[0m\u001b[0mextend\u001b[0m\u001b[0;34m(\u001b[0m\u001b[0mjob\u001b[0m\u001b[0;34m.\u001b[0m\u001b[0mget\u001b[0m\u001b[0;34m(\u001b[0m\u001b[0;34m)\u001b[0m\u001b[0;34m)\u001b[0m\u001b[0;34m\u001b[0m\u001b[0;34m\u001b[0m\u001b[0m\n",
      "\u001b[0;32m~/opt/anaconda3/envs/kw94-replication/lib/python3.8/site-packages/joblib/_parallel_backends.py\u001b[0m in \u001b[0;36mwrap_future_result\u001b[0;34m(future, timeout)\u001b[0m\n\u001b[1;32m    540\u001b[0m         AsyncResults.get from multiprocessing.\"\"\"\n\u001b[1;32m    541\u001b[0m         \u001b[0;32mtry\u001b[0m\u001b[0;34m:\u001b[0m\u001b[0;34m\u001b[0m\u001b[0;34m\u001b[0m\u001b[0m\n\u001b[0;32m--> 542\u001b[0;31m             \u001b[0;32mreturn\u001b[0m \u001b[0mfuture\u001b[0m\u001b[0;34m.\u001b[0m\u001b[0mresult\u001b[0m\u001b[0;34m(\u001b[0m\u001b[0mtimeout\u001b[0m\u001b[0;34m=\u001b[0m\u001b[0mtimeout\u001b[0m\u001b[0;34m)\u001b[0m\u001b[0;34m\u001b[0m\u001b[0;34m\u001b[0m\u001b[0m\n\u001b[0m\u001b[1;32m    543\u001b[0m         \u001b[0;32mexcept\u001b[0m \u001b[0mCfTimeoutError\u001b[0m \u001b[0;32mas\u001b[0m \u001b[0me\u001b[0m\u001b[0;34m:\u001b[0m\u001b[0;34m\u001b[0m\u001b[0;34m\u001b[0m\u001b[0m\n\u001b[1;32m    544\u001b[0m             \u001b[0;32mraise\u001b[0m \u001b[0mTimeoutError\u001b[0m \u001b[0;32mfrom\u001b[0m \u001b[0me\u001b[0m\u001b[0;34m\u001b[0m\u001b[0;34m\u001b[0m\u001b[0m\n",
      "\u001b[0;32m~/opt/anaconda3/envs/kw94-replication/lib/python3.8/concurrent/futures/_base.py\u001b[0m in \u001b[0;36mresult\u001b[0;34m(self, timeout)\u001b[0m\n\u001b[1;32m    437\u001b[0m                 \u001b[0;32mraise\u001b[0m \u001b[0mCancelledError\u001b[0m\u001b[0;34m(\u001b[0m\u001b[0;34m)\u001b[0m\u001b[0;34m\u001b[0m\u001b[0;34m\u001b[0m\u001b[0m\n\u001b[1;32m    438\u001b[0m             \u001b[0;32melif\u001b[0m \u001b[0mself\u001b[0m\u001b[0;34m.\u001b[0m\u001b[0m_state\u001b[0m \u001b[0;34m==\u001b[0m \u001b[0mFINISHED\u001b[0m\u001b[0;34m:\u001b[0m\u001b[0;34m\u001b[0m\u001b[0;34m\u001b[0m\u001b[0m\n\u001b[0;32m--> 439\u001b[0;31m                 \u001b[0;32mreturn\u001b[0m \u001b[0mself\u001b[0m\u001b[0;34m.\u001b[0m\u001b[0m__get_result\u001b[0m\u001b[0;34m(\u001b[0m\u001b[0;34m)\u001b[0m\u001b[0;34m\u001b[0m\u001b[0;34m\u001b[0m\u001b[0m\n\u001b[0m\u001b[1;32m    440\u001b[0m             \u001b[0;32melse\u001b[0m\u001b[0;34m:\u001b[0m\u001b[0;34m\u001b[0m\u001b[0;34m\u001b[0m\u001b[0m\n\u001b[1;32m    441\u001b[0m                 \u001b[0;32mraise\u001b[0m \u001b[0mTimeoutError\u001b[0m\u001b[0;34m(\u001b[0m\u001b[0;34m)\u001b[0m\u001b[0;34m\u001b[0m\u001b[0;34m\u001b[0m\u001b[0m\n",
      "\u001b[0;32m~/opt/anaconda3/envs/kw94-replication/lib/python3.8/concurrent/futures/_base.py\u001b[0m in \u001b[0;36m__get_result\u001b[0;34m(self)\u001b[0m\n\u001b[1;32m    386\u001b[0m     \u001b[0;32mdef\u001b[0m \u001b[0m__get_result\u001b[0m\u001b[0;34m(\u001b[0m\u001b[0mself\u001b[0m\u001b[0;34m)\u001b[0m\u001b[0;34m:\u001b[0m\u001b[0;34m\u001b[0m\u001b[0;34m\u001b[0m\u001b[0m\n\u001b[1;32m    387\u001b[0m         \u001b[0;32mif\u001b[0m \u001b[0mself\u001b[0m\u001b[0;34m.\u001b[0m\u001b[0m_exception\u001b[0m\u001b[0;34m:\u001b[0m\u001b[0;34m\u001b[0m\u001b[0;34m\u001b[0m\u001b[0m\n\u001b[0;32m--> 388\u001b[0;31m             \u001b[0;32mraise\u001b[0m \u001b[0mself\u001b[0m\u001b[0;34m.\u001b[0m\u001b[0m_exception\u001b[0m\u001b[0;34m\u001b[0m\u001b[0;34m\u001b[0m\u001b[0m\n\u001b[0m\u001b[1;32m    389\u001b[0m         \u001b[0;32melse\u001b[0m\u001b[0;34m:\u001b[0m\u001b[0;34m\u001b[0m\u001b[0;34m\u001b[0m\u001b[0m\n\u001b[1;32m    390\u001b[0m             \u001b[0;32mreturn\u001b[0m \u001b[0mself\u001b[0m\u001b[0;34m.\u001b[0m\u001b[0m_result\u001b[0m\u001b[0;34m\u001b[0m\u001b[0;34m\u001b[0m\u001b[0m\n",
      "\u001b[0;31mUncompressError\u001b[0m: Error while decompressing: invalid input"
     ]
    }
   ],
   "source": [
    "start = time.time()\n",
    "simulate = Parallel(n_jobs=-1)(delayed(get_simulate_func)(params) for params in params_idx_respy)\n",
    "end = time.time()\n",
    "# print(simulate)\n",
    "print(f'\\nTime to complete: {end - start:.2f}s\\n')"
   ]
  },
  {
   "cell_type": "code",
   "execution_count": null,
   "metadata": {},
   "outputs": [],
   "source": []
  }
 ],
 "metadata": {
  "kernelspec": {
   "display_name": "Python 3.8.8 64-bit ('kw94-replication': conda)",
   "language": "python",
   "name": "python388jvsc74a57bd0876186e94cb9bb5661a4043e01261e905a05d713617d1b63cf9d2c105d118b48"
  },
  "language_info": {
   "codemirror_mode": {
    "name": "ipython",
    "version": 3
   },
   "file_extension": ".py",
   "mimetype": "text/x-python",
   "name": "python",
   "nbconvert_exporter": "python",
   "pygments_lexer": "ipython3",
   "version": "3.8.8"
  }
 },
 "nbformat": 4,
 "nbformat_minor": 4
}
