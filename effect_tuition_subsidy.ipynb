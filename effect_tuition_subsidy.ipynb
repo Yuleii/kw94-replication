{
 "cells": [
  {
   "cell_type": "markdown",
   "metadata": {},
   "source": [
    "This notebook estimates the effect of a $500 tuition subsidy on average years of schooling based on the parametrization for data set one in KW97[1].\n",
    "The results are obtained by parametric bootsrap method accroding to [2, 3]\n",
    "\n",
    "[1] Keane, M. P. & Wopin, W. I. (1997). [The career Decisions of Young Men.](https://www.jstor.org/stable/10.1086/262080), \n",
    "*Journal of Political Economy, 105(3): 473-552.*105(3): 473-552.\n",
    "\n",
    "[2] Krinsky, I., & Robb, A. (1986). [On Approximating the Statistical Properties of Elasticities.](https://www.jstor.org/stable/1924536?seq=1) The Review of Economics and Statistics, 68(4), 715-719.\n",
    "\n",
    "[3] Efron, B., & Tibshirani, R.J. (1994). [An Introduction to the Bootstrap (1st ed.).](https://doi.org/10.1201/9780429246593) Chapman and Hall/CRC. "
   ]
  },
  {
   "cell_type": "code",
   "execution_count": 45,
   "metadata": {},
   "outputs": [],
   "source": [
    "import copy\n",
    "import numpy as np\n",
    "import pandas as pd\n",
    "import respy as rp\n",
    "import seaborn as sns\n",
    "import matplotlib.pyplot as plt\n",
    "import scipy.stats as stats\n",
    "import math"
   ]
  },
  {
   "cell_type": "markdown",
   "metadata": {},
   "source": [
    "**Step 1**: Generating the **bootstrap samples**: draw  40  samples  of size  100  from  the  parametric estimate of the population   \n",
    "**Step 2**: Evaluate the **sample mean**(bootstrap replications) corresponding to each bootstrap sample   \n",
    "**Step 3**: Estimate the **standard  error** by the sample standard deviation of the 40 bootstrap replications"
   ]
  },
  {
   "cell_type": "code",
   "execution_count": 47,
   "metadata": {},
   "outputs": [],
   "source": [
    "def bs_sampling(n_simulation_agents, subsidy):\n",
    "    # load parameters and options corresponding to model\n",
    "    params, options = rp.get_example_model(\"kw_94_one\", with_data=False)\n",
    "    \n",
    "    # Here we need 40 samples of 100 people. To process this, we genetate 4000 individuals and then \n",
    "    # split them to 40 equally-sized samples with 100 individuals in each sample.\n",
    "    options[\"simulation_agents\"] = n_simulation_agents\n",
    "    \n",
    "    # get simulate function\n",
    "    simulate = rp.get_simulate_func(params, options)\n",
    "    \n",
    "    # get simulated results without tuition subsidy\n",
    "    df_no_ts = simulate(params)\n",
    "    \n",
    "    # get simulated results with $500 tuition subsidy\n",
    "    ts_params = params.copy()\n",
    "    ts_params.loc[(\"nonpec_edu\", \"at_least_twelve_exp_edu\"), \"value\"] += subsidy\n",
    "    df_ts = simulate(ts_params)\n",
    "    \n",
    "    # assign bootstrap sample number\n",
    "    n_bs_samples = int(n_simulation_agents/100)\n",
    "    \n",
    "    for df in [df_no_ts, df_ts]:\n",
    "        df[\"sample_num\"] = pd.cut(\n",
    "            df.index.get_level_values(0), bins=n_bs_samples, labels=np.arange(1, n_bs_samples+1)\n",
    "        )\n",
    "        \n",
    "    # Calculate mean end-of-life schooling\n",
    "    columns = [\"sample_num\", \"Experience_Edu\"]\n",
    "    mean_edu_no_ts = (\n",
    "        df_no_ts[(df_no_ts.index.get_level_values(1)==39)][columns].groupby(\"sample_num\").mean()\n",
    "    )\n",
    "    mean_edu_ts = (\n",
    "        df_ts[(df_ts.index.get_level_values(1)==39)][columns].groupby(\"sample_num\").mean()\n",
    "    )\n",
    "    # Calculate the difference of mean final schooling with and without tuition subsidy. \n",
    "    diff_edu = (mean_edu_ts.subtract(mean_edu_no_ts).reset_index().set_index(\"sample_num\"))\n",
    "    \n",
    "    return diff_edu"
   ]
  },
  {
   "cell_type": "markdown",
   "metadata": {},
   "source": [
    "#### 40 bootsrap samples of size 100"
   ]
  },
  {
   "cell_type": "code",
   "execution_count": 49,
   "metadata": {},
   "outputs": [],
   "source": [
    "diff_edu=bs_sampling(n_simulation_agents=4000, subsidy=500)"
   ]
  },
  {
   "cell_type": "markdown",
   "metadata": {},
   "source": [
    "mean and standard error"
   ]
  },
  {
   "cell_type": "code",
   "execution_count": 50,
   "metadata": {},
   "outputs": [
    {
     "data": {
      "text/plain": [
       "(1.5595, 0.20949205969898502)"
      ]
     },
     "execution_count": 50,
     "metadata": {},
     "output_type": "execute_result"
    }
   ],
   "source": [
    "mean_diff_edu, std_diff_edu = diff_edu.agg([\"mean\", \"std\"])[\"Experience_Edu\"]\n",
    "mean_diff_edu, std_diff_edu"
   ]
  },
  {
   "cell_type": "markdown",
   "metadata": {},
   "source": [
    "95% confidence interval"
   ]
  },
  {
   "cell_type": "code",
   "execution_count": 51,
   "metadata": {},
   "outputs": [
    {
     "data": {
      "text/plain": [
       "(1.4925011892106965, 1.6264988107893037)"
      ]
     },
     "execution_count": 51,
     "metadata": {},
     "output_type": "execute_result"
    }
   ],
   "source": [
    "import scipy.stats as stats\n",
    "import math\n",
    "\n",
    "# mean_diff_edu, std_diff_edu = stat_diff_edu[\"Experience_Edu\"]\n",
    "\n",
    "n_samples = len(diff_edu)\n",
    "\n",
    "sigma = std_diff_edu/math.sqrt(n_samples)  # Standard deviation estimate\n",
    "\n",
    "stats.t.interval(alpha = 0.95,              # Confidence level\n",
    "                 df= n_samples - 1,          # Degrees of freedom\n",
    "                 loc = mean_diff_edu,        # Sample mean\n",
    "                 scale = sigma)             # Standard deviation estimate"
   ]
  },
  {
   "cell_type": "markdown",
   "metadata": {},
   "source": [
    "plot"
   ]
  },
  {
   "cell_type": "code",
   "execution_count": 63,
   "metadata": {},
   "outputs": [
    {
     "data": {
      "text/plain": [
       "<matplotlib.legend.Legend at 0x7fff7883f3d0>"
      ]
     },
     "execution_count": 63,
     "metadata": {},
     "output_type": "execute_result"
    },
    {
     "data": {
      "image/png": "[encoded data removed]",
      "text/plain": [
       "<Figure size 432x288 with 1 Axes>"
      ]
     },
     "metadata": {
      "needs_background": "light"
     },
     "output_type": "display_data"
    }
   ],
   "source": [
    "fig, ax = plt.subplots()\n",
    "ax = diff_edu[\"Experience_Edu\"].plot(kind=\"density\",label=\"KDE\")\n",
    "ax.axvline(mean_diff_edu, color=\"k\", linestyle=\"--\", label=\"mean\")\n",
    "ax.set_xlabel(\"Change in mean years of schooling\")\n",
    "ax.legend(loc='upper right', framealpha=1, frameon=True)"
   ]
  },
  {
   "cell_type": "markdown",
   "metadata": {},
   "source": [
    "#### Increase the number of bootsrap samples to 100"
   ]
  },
  {
   "cell_type": "code",
   "execution_count": 65,
   "metadata": {},
   "outputs": [
    {
     "data": {
      "text/plain": [
       "(1.5009000000000003, 0.24141876522346023)"
      ]
     },
     "execution_count": 65,
     "metadata": {},
     "output_type": "execute_result"
    }
   ],
   "source": [
    "diff_edu=bs_sampling(n_simulation_agents=10000, subsidy=500)\n",
    "mean_diff_edu, std_diff_edu = diff_edu.agg([\"mean\", \"std\"])[\"Experience_Edu\"]\n",
    "mean_diff_edu, std_diff_edu"
   ]
  },
  {
   "cell_type": "code",
   "execution_count": 67,
   "metadata": {},
   "outputs": [
    {
     "data": {
      "text/plain": [
       "(1.4529972793631318, 1.5488027206368689)"
      ]
     },
     "execution_count": 67,
     "metadata": {},
     "output_type": "execute_result"
    }
   ],
   "source": [
    "sigma = std_diff_edu/math.sqrt(n_samples)  # Standard deviation estimate\n",
    "\n",
    "stats.t.interval(alpha = 0.95,              # Confidence level\n",
    "                 df= n_samples - 1,          # Degrees of freedom\n",
    "                 loc = mean_diff_edu,        # Sample mean\n",
    "                 scale = sigma)             # Standard deviation estimate"
   ]
  },
  {
   "cell_type": "code",
   "execution_count": 69,
   "metadata": {},
   "outputs": [
    {
     "data": {
      "text/plain": [
       "<matplotlib.legend.Legend at 0x7fff78a34400>"
      ]
     },
     "execution_count": 69,
     "metadata": {},
     "output_type": "execute_result"
    },
    {
     "data": {
      "image/png": "[encoded data removed]",
      "text/plain": [
       "<Figure size 432x288 with 1 Axes>"
      ]
     },
     "metadata": {
      "needs_background": "light"
     },
     "output_type": "display_data"
    }
   ],
   "source": [
    "ax = diff_edu[\"Experience_Edu\"].plot(kind=\"density\",label=\"KDE\")\n",
    "ax.axvline(mean_diff_edu, color=\"k\", linestyle=\"--\", label=\"mean\")\n",
    "ax.set_xlabel(\"Change in mean years of schooling\")\n",
    "ax.legend(loc='upper right', framealpha=1, frameon=True)"
   ]
  }
 ],
 "metadata": {
  "kernelspec": {
   "display_name": "Python 3.8",
   "language": "python",
   "name": "datahub"
  },
  "language_info": {
   "codemirror_mode": {
    "name": "ipython",
    "version": 3
   },
   "file_extension": ".py",
   "mimetype": "text/x-python",
   "name": "python",
   "nbconvert_exporter": "python",
   "pygments_lexer": "ipython3",
   "version": "3.8.3"
  }
 },
 "nbformat": 4,
 "nbformat_minor": 4
}
